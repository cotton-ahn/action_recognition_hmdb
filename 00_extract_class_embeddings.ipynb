{
 "cells": [
  {
   "cell_type": "code",
   "execution_count": 1,
   "metadata": {},
   "outputs": [],
   "source": [
    "import os\n",
    "import copy\n",
    "import pickle\n",
    "import numpy as np\n",
    "import torch\n",
    "import matplotlib.pyplot as plt\n",
    "from transformers import AutoTokenizer, AutoModel\n",
    "from sentence_transformers import SentenceTransformer"
   ]
  },
  {
   "cell_type": "code",
   "execution_count": 2,
   "metadata": {},
   "outputs": [
    {
     "name": "stdout",
     "output_type": "stream",
     "text": [
      "['brush_hair', 'cartwheel', 'catch', 'chew', 'clap', 'climb', 'climb_stairs', 'dive', 'draw_sword', 'dribble', 'drink', 'eat', 'fall_floor', 'fencing', 'flic_flac', 'golf', 'handstand', 'hit', 'hug', 'jump', 'kick', 'kick_ball', 'kiss', 'laugh', 'pick', 'pour', 'pullup', 'punch', 'push', 'pushup', 'ride_bike', 'ride_horse', 'run', 'shake_hands', 'shoot_ball', 'shoot_bow', 'shoot_gun', 'sit', 'situp', 'smile', 'smoke', 'somersault', 'stand', 'swing_baseball', 'sword', 'sword_exercise', 'talk', 'throw', 'turn', 'walk', 'wave']\n",
      "['brush_hair', 'cartwheel', 'catch', 'chew', 'clap', 'climb', 'climb_stairs', 'dive', 'draw_sword', 'dribble', 'drink', 'eat', 'fall_floor', 'fencing', 'flic_flac', 'golf', 'handstand', 'hit', 'hug', 'jump', 'kick', 'kick_ball', 'kiss', 'laugh', 'pick', 'pour', 'pullup', 'punch', 'push', 'pushup', 'ride_bike', 'ride_horse', 'run', 'shake_hands', 'shoot_ball', 'shoot_bow', 'shoot_gun', 'sit', 'situp', 'smile', 'smoke', 'somersault', 'stand', 'swing_baseball', 'sword', 'sword_exercise', 'talk', 'throw', 'turn', 'walk', 'wave']\n"
     ]
    }
   ],
   "source": [
    "hmdb_path = '../../dataset/hmdb51_vid/'\n",
    "class_names = sorted(os.listdir(hmdb_path))\n",
    "original_names = copy.deepcopy(class_names)\n",
    "print(class_names)\n",
    "print(original_names)"
   ]
  },
  {
   "cell_type": "code",
   "execution_count": 3,
   "metadata": {},
   "outputs": [
    {
     "name": "stdout",
     "output_type": "stream",
     "text": [
      "['brush hair', 'cartwheel', 'catch', 'chew', 'clap', 'climb', 'climb stairs', 'dive', 'draw sword', 'dribble', 'drink', 'eat', 'fall floor', 'fencing', 'flic flac', 'golf', 'handstand', 'hit', 'hug', 'jump', 'kick', 'kick ball', 'kiss', 'laugh', 'pick', 'pour', 'pullup', 'punch', 'push', 'pushup', 'ride bike', 'ride horse', 'run', 'shake hands', 'shoot ball', 'shoot bow', 'shoot gun', 'sit', 'situp', 'smile', 'smoke', 'somersault', 'stand', 'swing baseball', 'sword', 'sword exercise', 'talk', 'throw', 'turn', 'walk', 'wave']\n"
     ]
    }
   ],
   "source": [
    "for idx, name in enumerate(class_names):\n",
    "    class_names[idx] = name.replace('_', ' ')\n",
    "print(class_names)\n",
    "bert_embed = dict()\n",
    "sbert_embed = dict()    "
   ]
  },
  {
   "cell_type": "code",
   "execution_count": 4,
   "metadata": {},
   "outputs": [],
   "source": [
    "tokenizer = AutoTokenizer.from_pretrained(\"bert-base-uncased\")\n",
    "bert_model = AutoModel.from_pretrained(\"bert-base-uncased\")"
   ]
  },
  {
   "cell_type": "code",
   "execution_count": 5,
   "metadata": {},
   "outputs": [
    {
     "name": "stdout",
     "output_type": "stream",
     "text": [
      "brush hair brush_hair\n",
      "cartwheel cartwheel\n",
      "catch catch\n",
      "chew chew\n",
      "clap clap\n",
      "climb climb\n",
      "climb stairs climb_stairs\n",
      "dive dive\n",
      "draw sword draw_sword\n",
      "dribble dribble\n",
      "drink drink\n",
      "eat eat\n",
      "fall floor fall_floor\n",
      "fencing fencing\n",
      "flic flac flic_flac\n",
      "golf golf\n",
      "handstand handstand\n",
      "hit hit\n",
      "hug hug\n",
      "jump jump\n",
      "kick kick\n",
      "kick ball kick_ball\n",
      "kiss kiss\n",
      "laugh laugh\n",
      "pick pick\n",
      "pour pour\n",
      "pullup pullup\n",
      "punch punch\n",
      "push push\n",
      "pushup pushup\n",
      "ride bike ride_bike\n",
      "ride horse ride_horse\n",
      "run run\n",
      "shake hands shake_hands\n",
      "shoot ball shoot_ball\n",
      "shoot bow shoot_bow\n",
      "shoot gun shoot_gun\n",
      "sit sit\n",
      "situp situp\n",
      "smile smile\n",
      "smoke smoke\n",
      "somersault somersault\n",
      "stand stand\n",
      "swing baseball swing_baseball\n",
      "sword sword\n",
      "sword exercise sword_exercise\n",
      "talk talk\n",
      "throw throw\n",
      "turn turn\n",
      "walk walk\n",
      "wave wave\n"
     ]
    }
   ],
   "source": [
    "for idx, name in enumerate(class_names):\n",
    "    curr_inp = tokenizer(name, return_tensors=\"pt\")\n",
    "    curr_out = bert_model(**curr_inp)\n",
    "    bert_embed[original_names[idx]] = curr_out[0][0][-1].detach().numpy()\n",
    "    print(name, original_names[idx])"
   ]
  },
  {
   "cell_type": "code",
   "execution_count": 6,
   "metadata": {},
   "outputs": [],
   "source": [
    "sbert_model = SentenceTransformer('distilbert-base-nli-mean-tokens')\n",
    "class_embeddings_sbert = sbert_model.encode(class_names)\n",
    "for idx, name in enumerate(original_names):\n",
    "    sbert_embed[name] = class_embeddings_sbert[idx]"
   ]
  },
  {
   "cell_type": "code",
   "execution_count": 8,
   "metadata": {},
   "outputs": [
    {
     "name": "stdout",
     "output_type": "stream",
     "text": [
      "(768,)\n",
      "(768,)\n"
     ]
    }
   ],
   "source": [
    "print(bert_embed['brush_hair'].shape)\n",
    "print(sbert_embed['brush_hair'].shape)"
   ]
  },
  {
   "cell_type": "code",
   "execution_count": 9,
   "metadata": {},
   "outputs": [],
   "source": [
    "pickle.dump(bert_embed, open('./metas/class_embed_bert.pkl', 'wb'))\n",
    "pickle.dump(sbert_embed, open('./metas/class_embed_sbert.pkl', 'wb'))"
   ]
  }
 ],
 "metadata": {
  "kernelspec": {
   "display_name": "pytorch",
   "language": "python",
   "name": "pytorch"
  },
  "language_info": {
   "codemirror_mode": {
    "name": "ipython",
    "version": 3
   },
   "file_extension": ".py",
   "mimetype": "text/x-python",
   "name": "python",
   "nbconvert_exporter": "python",
   "pygments_lexer": "ipython3",
   "version": "3.7.9"
  }
 },
 "nbformat": 4,
 "nbformat_minor": 4
}
